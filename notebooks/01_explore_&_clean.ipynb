{
 "cells": [
  {
   "cell_type": "code",
   "execution_count": 1,
   "metadata": {},
   "outputs": [
    {
     "name": "stdout",
     "output_type": "stream",
     "text": [
      "Dataset loaded successfully!\n"
     ]
    },
    {
     "data": {
      "text/html": [
       "<div>\n",
       "<style scoped>\n",
       "    .dataframe tbody tr th:only-of-type {\n",
       "        vertical-align: middle;\n",
       "    }\n",
       "\n",
       "    .dataframe tbody tr th {\n",
       "        vertical-align: top;\n",
       "    }\n",
       "\n",
       "    .dataframe thead th {\n",
       "        text-align: right;\n",
       "    }\n",
       "</style>\n",
       "<table border=\"1\" class=\"dataframe\">\n",
       "  <thead>\n",
       "    <tr style=\"text-align: right;\">\n",
       "      <th></th>\n",
       "      <th>VIN (1-10)</th>\n",
       "      <th>County</th>\n",
       "      <th>City</th>\n",
       "      <th>State</th>\n",
       "      <th>Postal Code</th>\n",
       "      <th>Model Year</th>\n",
       "      <th>Make</th>\n",
       "      <th>Model</th>\n",
       "      <th>Electric Vehicle Type</th>\n",
       "      <th>Clean Alternative Fuel Vehicle (CAFV) Eligibility</th>\n",
       "      <th>Electric Range</th>\n",
       "      <th>Base MSRP</th>\n",
       "      <th>Legislative District</th>\n",
       "      <th>DOL Vehicle ID</th>\n",
       "      <th>Vehicle Location</th>\n",
       "      <th>Electric Utility</th>\n",
       "      <th>2020 Census Tract</th>\n",
       "    </tr>\n",
       "  </thead>\n",
       "  <tbody>\n",
       "    <tr>\n",
       "      <th>0</th>\n",
       "      <td>5YJYGDEE1L</td>\n",
       "      <td>King</td>\n",
       "      <td>Seattle</td>\n",
       "      <td>WA</td>\n",
       "      <td>98122.0</td>\n",
       "      <td>2020</td>\n",
       "      <td>TESLA</td>\n",
       "      <td>MODEL Y</td>\n",
       "      <td>Battery Electric Vehicle (BEV)</td>\n",
       "      <td>Clean Alternative Fuel Vehicle Eligible</td>\n",
       "      <td>291</td>\n",
       "      <td>0</td>\n",
       "      <td>37.0</td>\n",
       "      <td>125701579</td>\n",
       "      <td>POINT (-122.30839 47.610365)</td>\n",
       "      <td>CITY OF SEATTLE - (WA)|CITY OF TACOMA - (WA)</td>\n",
       "      <td>5.303301e+10</td>\n",
       "    </tr>\n",
       "    <tr>\n",
       "      <th>1</th>\n",
       "      <td>7SAYGDEE9P</td>\n",
       "      <td>Snohomish</td>\n",
       "      <td>Bothell</td>\n",
       "      <td>WA</td>\n",
       "      <td>98021.0</td>\n",
       "      <td>2023</td>\n",
       "      <td>TESLA</td>\n",
       "      <td>MODEL Y</td>\n",
       "      <td>Battery Electric Vehicle (BEV)</td>\n",
       "      <td>Eligibility unknown as battery range has not b...</td>\n",
       "      <td>0</td>\n",
       "      <td>0</td>\n",
       "      <td>1.0</td>\n",
       "      <td>244285107</td>\n",
       "      <td>POINT (-122.179458 47.802589)</td>\n",
       "      <td>PUGET SOUND ENERGY INC</td>\n",
       "      <td>5.306105e+10</td>\n",
       "    </tr>\n",
       "    <tr>\n",
       "      <th>2</th>\n",
       "      <td>5YJSA1E4XK</td>\n",
       "      <td>King</td>\n",
       "      <td>Seattle</td>\n",
       "      <td>WA</td>\n",
       "      <td>98109.0</td>\n",
       "      <td>2019</td>\n",
       "      <td>TESLA</td>\n",
       "      <td>MODEL S</td>\n",
       "      <td>Battery Electric Vehicle (BEV)</td>\n",
       "      <td>Clean Alternative Fuel Vehicle Eligible</td>\n",
       "      <td>270</td>\n",
       "      <td>0</td>\n",
       "      <td>36.0</td>\n",
       "      <td>156773144</td>\n",
       "      <td>POINT (-122.34848 47.632405)</td>\n",
       "      <td>CITY OF SEATTLE - (WA)|CITY OF TACOMA - (WA)</td>\n",
       "      <td>5.303301e+10</td>\n",
       "    </tr>\n",
       "    <tr>\n",
       "      <th>3</th>\n",
       "      <td>5YJSA1E27G</td>\n",
       "      <td>King</td>\n",
       "      <td>Issaquah</td>\n",
       "      <td>WA</td>\n",
       "      <td>98027.0</td>\n",
       "      <td>2016</td>\n",
       "      <td>TESLA</td>\n",
       "      <td>MODEL S</td>\n",
       "      <td>Battery Electric Vehicle (BEV)</td>\n",
       "      <td>Clean Alternative Fuel Vehicle Eligible</td>\n",
       "      <td>210</td>\n",
       "      <td>0</td>\n",
       "      <td>5.0</td>\n",
       "      <td>165103011</td>\n",
       "      <td>POINT (-122.03646 47.534065)</td>\n",
       "      <td>PUGET SOUND ENERGY INC||CITY OF TACOMA - (WA)</td>\n",
       "      <td>5.303303e+10</td>\n",
       "    </tr>\n",
       "    <tr>\n",
       "      <th>4</th>\n",
       "      <td>5YJYGDEE5M</td>\n",
       "      <td>Kitsap</td>\n",
       "      <td>Suquamish</td>\n",
       "      <td>WA</td>\n",
       "      <td>98392.0</td>\n",
       "      <td>2021</td>\n",
       "      <td>TESLA</td>\n",
       "      <td>MODEL Y</td>\n",
       "      <td>Battery Electric Vehicle (BEV)</td>\n",
       "      <td>Eligibility unknown as battery range has not b...</td>\n",
       "      <td>0</td>\n",
       "      <td>0</td>\n",
       "      <td>23.0</td>\n",
       "      <td>205138552</td>\n",
       "      <td>POINT (-122.55717 47.733415)</td>\n",
       "      <td>PUGET SOUND ENERGY INC</td>\n",
       "      <td>5.303594e+10</td>\n",
       "    </tr>\n",
       "  </tbody>\n",
       "</table>\n",
       "</div>"
      ],
      "text/plain": [
       "   VIN (1-10)     County       City State  Postal Code  Model Year   Make  \\\n",
       "0  5YJYGDEE1L       King    Seattle    WA      98122.0        2020  TESLA   \n",
       "1  7SAYGDEE9P  Snohomish    Bothell    WA      98021.0        2023  TESLA   \n",
       "2  5YJSA1E4XK       King    Seattle    WA      98109.0        2019  TESLA   \n",
       "3  5YJSA1E27G       King   Issaquah    WA      98027.0        2016  TESLA   \n",
       "4  5YJYGDEE5M     Kitsap  Suquamish    WA      98392.0        2021  TESLA   \n",
       "\n",
       "     Model           Electric Vehicle Type  \\\n",
       "0  MODEL Y  Battery Electric Vehicle (BEV)   \n",
       "1  MODEL Y  Battery Electric Vehicle (BEV)   \n",
       "2  MODEL S  Battery Electric Vehicle (BEV)   \n",
       "3  MODEL S  Battery Electric Vehicle (BEV)   \n",
       "4  MODEL Y  Battery Electric Vehicle (BEV)   \n",
       "\n",
       "   Clean Alternative Fuel Vehicle (CAFV) Eligibility  Electric Range  \\\n",
       "0            Clean Alternative Fuel Vehicle Eligible             291   \n",
       "1  Eligibility unknown as battery range has not b...               0   \n",
       "2            Clean Alternative Fuel Vehicle Eligible             270   \n",
       "3            Clean Alternative Fuel Vehicle Eligible             210   \n",
       "4  Eligibility unknown as battery range has not b...               0   \n",
       "\n",
       "   Base MSRP  Legislative District  DOL Vehicle ID  \\\n",
       "0          0                  37.0       125701579   \n",
       "1          0                   1.0       244285107   \n",
       "2          0                  36.0       156773144   \n",
       "3          0                   5.0       165103011   \n",
       "4          0                  23.0       205138552   \n",
       "\n",
       "                Vehicle Location  \\\n",
       "0   POINT (-122.30839 47.610365)   \n",
       "1  POINT (-122.179458 47.802589)   \n",
       "2   POINT (-122.34848 47.632405)   \n",
       "3   POINT (-122.03646 47.534065)   \n",
       "4   POINT (-122.55717 47.733415)   \n",
       "\n",
       "                                Electric Utility  2020 Census Tract  \n",
       "0   CITY OF SEATTLE - (WA)|CITY OF TACOMA - (WA)       5.303301e+10  \n",
       "1                         PUGET SOUND ENERGY INC       5.306105e+10  \n",
       "2   CITY OF SEATTLE - (WA)|CITY OF TACOMA - (WA)       5.303301e+10  \n",
       "3  PUGET SOUND ENERGY INC||CITY OF TACOMA - (WA)       5.303303e+10  \n",
       "4                         PUGET SOUND ENERGY INC       5.303594e+10  "
      ]
     },
     "execution_count": 1,
     "metadata": {},
     "output_type": "execute_result"
    }
   ],
   "source": [
    "import pandas as pd\n",
    "import numpy as np\n",
    "\n",
    "df = pd.read_csv('Electric_Vehicle_Population_Data.csv')\n",
    "print(\"Dataset loaded successfully!\")\n",
    "\n",
    "df.head()"
   ]
  },
  {
   "cell_type": "code",
   "execution_count": 2,
   "metadata": {},
   "outputs": [
    {
     "name": "stdout",
     "output_type": "stream",
     "text": [
      "\n",
      "--- DataFrame Info ---\n",
      "<class 'pandas.core.frame.DataFrame'>\n",
      "RangeIndex: 177866 entries, 0 to 177865\n",
      "Data columns (total 17 columns):\n",
      " #   Column                                             Non-Null Count   Dtype  \n",
      "---  ------                                             --------------   -----  \n",
      " 0   VIN (1-10)                                         177866 non-null  object \n",
      " 1   County                                             177861 non-null  object \n",
      " 2   City                                               177861 non-null  object \n",
      " 3   State                                              177866 non-null  object \n",
      " 4   Postal Code                                        177861 non-null  float64\n",
      " 5   Model Year                                         177866 non-null  int64  \n",
      " 6   Make                                               177866 non-null  object \n",
      " 7   Model                                              177866 non-null  object \n",
      " 8   Electric Vehicle Type                              177866 non-null  object \n",
      " 9   Clean Alternative Fuel Vehicle (CAFV) Eligibility  177866 non-null  object \n",
      " 10  Electric Range                                     177866 non-null  int64  \n",
      " 11  Base MSRP                                          177866 non-null  int64  \n",
      " 12  Legislative District                               177477 non-null  float64\n",
      " 13  DOL Vehicle ID                                     177866 non-null  int64  \n",
      " 14  Vehicle Location                                   177857 non-null  object \n",
      " 15  Electric Utility                                   177861 non-null  object \n",
      " 16  2020 Census Tract                                  177861 non-null  float64\n",
      "dtypes: float64(3), int64(4), object(10)\n",
      "memory usage: 23.1+ MB\n"
     ]
    }
   ],
   "source": [
    "print(\"\\n--- DataFrame Info ---\")\n",
    "df.info()"
   ]
  },
  {
   "cell_type": "code",
   "execution_count": 3,
   "metadata": {},
   "outputs": [
    {
     "name": "stdout",
     "output_type": "stream",
     "text": [
      "\n",
      "Descriptive Statistics\n",
      "         Postal Code     Model Year  Electric Range      Base MSRP  \\\n",
      "count  177861.000000  177866.000000   177866.000000  177866.000000   \n",
      "mean    98172.453506    2020.515512       58.842162    1073.109363   \n",
      "std      2442.450668       2.989384       91.981298    8358.624956   \n",
      "min      1545.000000    1997.000000        0.000000       0.000000   \n",
      "25%     98052.000000    2019.000000        0.000000       0.000000   \n",
      "50%     98122.000000    2022.000000        0.000000       0.000000   \n",
      "75%     98370.000000    2023.000000       75.000000       0.000000   \n",
      "max     99577.000000    2024.000000      337.000000  845000.000000   \n",
      "\n",
      "       Legislative District  DOL Vehicle ID  2020 Census Tract  \n",
      "count         177477.000000    1.778660e+05       1.778610e+05  \n",
      "mean              29.127481    2.202313e+08       5.297672e+10  \n",
      "std               14.892169    7.584987e+07       1.578047e+09  \n",
      "min                1.000000    4.385000e+03       1.001020e+09  \n",
      "25%               18.000000    1.814743e+08       5.303301e+10  \n",
      "50%               33.000000    2.282522e+08       5.303303e+10  \n",
      "75%               42.000000    2.548445e+08       5.305307e+10  \n",
      "max               49.000000    4.792548e+08       5.603300e+10  \n"
     ]
    }
   ],
   "source": [
    "print(\"\\nDescriptive Statistics\")\n",
    "print(df.describe())"
   ]
  },
  {
   "cell_type": "code",
   "execution_count": 4,
   "metadata": {},
   "outputs": [
    {
     "name": "stdout",
     "output_type": "stream",
     "text": [
      "\n",
      "--- Unique Values in Key Columns ---\n",
      "State: 46 unique values\n",
      "Electric Vehicle Type: 2 unique values\n",
      "['Battery Electric Vehicle (BEV)' 'Plug-in Hybrid Electric Vehicle (PHEV)']\n",
      "Make: 40 unique values\n",
      "Model Year: 22 unique values\n"
     ]
    }
   ],
   "source": [
    "print(\"\\n--- Unique Values in Key Columns ---\")\n",
    "for col in ['State', 'Electric Vehicle Type', 'Make', 'Model Year']:\n",
    "    print(f\"{col}: {df[col].nunique()} unique values\")\n",
    "    if df[col].nunique() < 20:\n",
    "        print(df[col].unique())\n"
   ]
  },
  {
   "cell_type": "markdown",
   "metadata": {},
   "source": [
    "**DATASET OBSERVATIONS**\n",
    "\n",
    "1 - Dataset Size: 177,866 records and 17 columns. \n",
    "\n",
    "2 - Missing Values (Non-Null Counts):\n",
    "\n",
    "-  County, City, Postal Code, Electric Utility, 2020 Census Tract: 5 missing values each. These are very few.\n",
    "- Legislative District: 389 missing values. A significant number.\n",
    "- Vehicle Location: 9 missing values. Also very few.\n",
    "\n",
    "3 - Data Types:\n",
    "- Postal Code, Legislative District, 2020 Census Tract are currently float64 but, are more likely identifiers or categorical. The float type is usually due to the presence of NaN values, which Pandas represents as floats.\n",
    "- DOL Vehicle ID is int64, should change to object as a unique identifier.\n",
    "\n",
    "4 - Descriptive Statistics:\n",
    "- Model Year: Range 1997-2024, mean 2020.5. A rich historical dataset.\n",
    "- Electric Range: Mean: 58.8 miles. 25th, 50th (median), and 75th percentiles are all 0. This is a major data quality issue. This strongly suggests missing data, or perhaps miscoded data where 0 means \"not applicable\".\n",
    "- Base MSRP: Mean: $1,073. 25th, 50th (median), and 75th percentiles are all $0. This indicates widespread missing or placeholder data rather than actual $0 prices.\n",
    "\n",
    "5 - Unique Values in Categorical Columns:\n",
    "- State: 46 unique states\n",
    "- Electric Vehicle Type: BEV, PHEV\n",
    "- Make: 40 unique makes – good for market share analysis.\n",
    "- Model Year: 22 unique years – good for temporal analysis.\n",
    "\n",
    "--------------------------------------------------------------------------------------\n",
    "**Cleaning next steps:**\n",
    "\n",
    "- Fix electric range data quality issues\n",
    "- Address missing MSRP data\n",
    "- Review location data for the 5 missing records\n",
    "- Imputation strategies for legislative district missing values\n",
    "\n",
    "\n"
   ]
  },
  {
   "cell_type": "code",
   "execution_count": 5,
   "metadata": {},
   "outputs": [],
   "source": [
    "# Convert DOL Vehicle ID to string\n",
    "df['DOL Vehicle ID'] = df['DOL Vehicle ID'].astype(str)"
   ]
  },
  {
   "cell_type": "code",
   "execution_count": null,
   "metadata": {},
   "outputs": [],
   "source": [
    "# Drop na for a very few missing values\n",
    "\n",
    "cols_to_drop_na = ['County', 'City', 'Postal Code', 'Vehicle Location', 'Electric Utility', '2020 Census Tract']\n",
    "\n",
    "initial_rows = df.shape[0]\n",
    "df.dropna(subset=cols_to_drop_na, inplace=True)"
   ]
  },
  {
   "cell_type": "code",
   "execution_count": 7,
   "metadata": {},
   "outputs": [],
   "source": [
    "# Treat Legislative District missing values.\n",
    "\n",
    "# Impute with a placeholder (-1)\n",
    "df['Legislative District'] = df['Legislative District'].fillna(-1).astype(str)\n"
   ]
  },
  {
   "cell_type": "code",
   "execution_count": null,
   "metadata": {},
   "outputs": [
    {
     "name": "stdout",
     "output_type": "stream",
     "text": [
      "\n",
      "Data types after converting Postal Code and 2020 Census Tract:\n",
      "Postal Code             object\n",
      "2020 Census Tract       object\n",
      "Legislative District    object\n",
      "dtype: object\n"
     ]
    }
   ],
   "source": [
    "# Convert Postal Code and 2020 Census Tract to string/object type\n",
    "df['Postal Code'] = df['Postal Code'].astype(str)\n",
    "df['2020 Census Tract'] = df['2020 Census Tract'].astype(str)\n"
   ]
  },
  {
   "cell_type": "code",
   "execution_count": 9,
   "metadata": {},
   "outputs": [
    {
     "name": "stdout",
     "output_type": "stream",
     "text": [
      "\n",
      "Converted 174514 '0' values in 'Base MSRP' to NaN (pd.NA).\n"
     ]
    },
    {
     "name": "stderr",
     "output_type": "stream",
     "text": [
      "C:\\Users\\luket\\AppData\\Local\\Temp\\ipykernel_27964\\1234442314.py:3: FutureWarning: A value is trying to be set on a copy of a DataFrame or Series through chained assignment using an inplace method.\n",
      "The behavior will change in pandas 3.0. This inplace method will never work because the intermediate object on which we are setting values always behaves as a copy.\n",
      "\n",
      "For example, when doing 'df[col].method(value, inplace=True)', try using 'df.method({col: value}, inplace=True)' or df[col] = df[col].method(value) instead, to perform the operation inplace on the original object.\n",
      "\n",
      "\n",
      "  df['Base MSRP'].replace(0, pd.NA, inplace=True)\n"
     ]
    }
   ],
   "source": [
    "# Address 0 values in Base MSRP\n",
    "initial_zero_msrp_count = df[df['Base MSRP'] == 0].shape[0]\n",
    "df['Base MSRP'].replace(0, pd.NA, inplace=True)\n",
    "df['Base MSRP'] = df['Base MSRP'].astype('Float64')\n",
    "\n",
    "print(f\"\\nConverted {initial_zero_msrp_count} '0' values in 'Base MSRP' to NaN (pd.NA).\")\n"
   ]
  },
  {
   "cell_type": "markdown",
   "metadata": {},
   "source": [
    "**With 174514 missing values in 'Base MSRP', this column is heavily missing. The decision is to entirely drop this column**"
   ]
  },
  {
   "cell_type": "code",
   "execution_count": 10,
   "metadata": {},
   "outputs": [
    {
     "name": "stdout",
     "output_type": "stream",
     "text": [
      "Base MSRP column dropped.\n"
     ]
    }
   ],
   "source": [
    "# Drop \"Base MSRP\" column\n",
    "df.drop('Base MSRP', axis=1, inplace=True)\n",
    "print(\"Base MSRP column dropped.\")"
   ]
  },
  {
   "cell_type": "code",
   "execution_count": 11,
   "metadata": {},
   "outputs": [
    {
     "name": "stdout",
     "output_type": "stream",
     "text": [
      "\n",
      "Counts of 0 Electric Range by Electric Vehicle Type:\n",
      "Electric Vehicle Type\n",
      "Battery Electric Vehicle (BEV)    91949\n",
      "Name: count, dtype: int64\n",
      "Converted 91949 '0' Electric Range for BEVs to NaN (pd.NA).\n"
     ]
    }
   ],
   "source": [
    "# Address 0 values in Electric Range\n",
    "print(\"\\nCounts of 0 Electric Range by Electric Vehicle Type:\")\n",
    "print(df[df['Electric Range'] == 0]['Electric Vehicle Type'].value_counts())\n",
    "\n",
    "initial_bev_zero_range_count = df[(df['Electric Range'] == 0) & (df['Electric Vehicle Type'] == 'Battery Electric Vehicle (BEV)')].shape[0]\n",
    "df.loc[(df['Electric Range'] == 0) & (df['Electric Vehicle Type'] == 'Battery Electric Vehicle (BEV)'), 'Electric Range'] = pd.NA\n",
    "print(f\"Converted {initial_bev_zero_range_count} '0' Electric Range for BEVs to NaN (pd.NA).\")"
   ]
  },
  {
   "cell_type": "markdown",
   "metadata": {},
   "source": [
    "**91,949 BEV records have NaN for Electric Range. This is too many to drop. The decision here is Median imputation based on 'Make' and 'Model Year'**"
   ]
  },
  {
   "cell_type": "code",
   "execution_count": 12,
   "metadata": {},
   "outputs": [
    {
     "name": "stdout",
     "output_type": "stream",
     "text": [
      "\n",
      "--- Imputing Missing Electric Range for BEVs ---\n"
     ]
    },
    {
     "name": "stderr",
     "output_type": "stream",
     "text": [
      "C:\\Users\\luket\\AppData\\Local\\Temp\\ipykernel_27964\\2294630861.py:11: FutureWarning: A value is trying to be set on a copy of a DataFrame or Series through chained assignment using an inplace method.\n",
      "The behavior will change in pandas 3.0. This inplace method will never work because the intermediate object on which we are setting values always behaves as a copy.\n",
      "\n",
      "For example, when doing 'df[col].method(value, inplace=True)', try using 'df.method({col: value}, inplace=True)' or df[col] = df[col].method(value) instead, to perform the operation inplace on the original object.\n",
      "\n",
      "\n",
      "  df['Electric Range'].fillna(overall_bev_median_range, inplace=True)\n"
     ]
    }
   ],
   "source": [
    "print(\"\\n--- Imputing Missing Electric Range for BEVs ---\")\n",
    "df['Imputed Electric Range'] = df.groupby(['Make', 'Model Year'])['Electric Range'].transform('median')\n",
    "\n",
    "initial_nan_bev_range_count = df.loc[(df['Electric Range'].isna()) & (df['Electric Vehicle Type'] == 'Battery Electric Vehicle (BEV)')].shape[0]\n",
    "\n",
    "df.loc[(df['Electric Range'].isna()) & (df['Electric Vehicle Type'] == 'Battery Electric Vehicle (BEV)'), 'Electric Range'] = \\\n",
    "    df.loc[(df['Electric Range'].isna()) & (df['Electric Vehicle Type'] == 'Battery Electric Vehicle (BEV)'), 'Imputed Electric Range']\n",
    "\n",
    "overall_bev_median_range = df[df['Electric Vehicle Type'] == 'Battery Electric Vehicle (BEV)']['Electric Range'].median()\n",
    "\n",
    "df['Electric Range'].fillna(overall_bev_median_range, inplace=True)\n",
    "\n",
    "df.drop('Imputed Electric Range', axis=1, inplace=True)\n"
   ]
  },
  {
   "cell_type": "code",
   "execution_count": 13,
   "metadata": {},
   "outputs": [
    {
     "data": {
      "text/plain": [
       "VIN (1-10)                                           0\n",
       "County                                               0\n",
       "City                                                 0\n",
       "State                                                0\n",
       "Postal Code                                          0\n",
       "Model Year                                           0\n",
       "Make                                                 0\n",
       "Model                                                0\n",
       "Electric Vehicle Type                                0\n",
       "Clean Alternative Fuel Vehicle (CAFV) Eligibility    0\n",
       "Electric Range                                       0\n",
       "Legislative District                                 0\n",
       "DOL Vehicle ID                                       0\n",
       "Vehicle Location                                     0\n",
       "Electric Utility                                     0\n",
       "2020 Census Tract                                    0\n",
       "dtype: int64"
      ]
     },
     "execution_count": 13,
     "metadata": {},
     "output_type": "execute_result"
    }
   ],
   "source": [
    "df.isnull().sum()"
   ]
  },
  {
   "cell_type": "code",
   "execution_count": 14,
   "metadata": {},
   "outputs": [
    {
     "name": "stdout",
     "output_type": "stream",
     "text": [
      "          Model Year  Electric Range\n",
      "count  177857.000000   177857.000000\n",
      "mean     2020.515684      124.630490\n",
      "std         2.989208       77.021998\n",
      "min      1997.000000        6.000000\n",
      "25%      2019.000000       38.000000\n",
      "50%      2022.000000      151.000000\n",
      "75%      2023.000000      151.000000\n",
      "max      2024.000000      337.000000\n"
     ]
    }
   ],
   "source": [
    "print(df.describe())"
   ]
  },
  {
   "cell_type": "code",
   "execution_count": 15,
   "metadata": {},
   "outputs": [
    {
     "name": "stdout",
     "output_type": "stream",
     "text": [
      "\n",
      "Cleaned data saved to: ev_population_data_cleaned.csv\n"
     ]
    }
   ],
   "source": [
    "output_file_path = 'ev_population_data_cleaned.csv'\n",
    "df.to_csv(output_file_path, index=False)\n",
    "print(f\"\\nCleaned data saved to: {output_file_path}\")"
   ]
  }
 ],
 "metadata": {
  "kernelspec": {
   "display_name": "Python 3",
   "language": "python",
   "name": "python3"
  },
  "language_info": {
   "codemirror_mode": {
    "name": "ipython",
    "version": 3
   },
   "file_extension": ".py",
   "mimetype": "text/x-python",
   "name": "python",
   "nbconvert_exporter": "python",
   "pygments_lexer": "ipython3",
   "version": "3.11.9"
  }
 },
 "nbformat": 4,
 "nbformat_minor": 2
}
