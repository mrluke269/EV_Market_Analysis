{
  "cells": [
    {
      "cell_type": "code",
      "execution_count": 1,
      "metadata": {
        "id": "NYQAY5NbL_LJ"
      },
      "outputs": [],
      "source": [
        "import pandas as pd\n",
        "import matplotlib.pyplot as plt\n",
        "import seaborn as sns\n",
        "import numpy as np\n",
        "\n",
        "# For curve fitting (instead of statsmodels.tsa or sklearn.linear_model)\n",
        "from scipy.optimize import curve_fit\n",
        "df = pd.read_csv('df_wa.csv')"
      ]
    },
    {
      "cell_type": "code",
      "execution_count": 3,
      "metadata": {},
      "outputs": [
        {
          "name": "stdout",
          "output_type": "stream",
          "text": [
            "\n",
            "'Model Year Date' column recreated.\n"
          ]
        }
      ],
      "source": [
        "df['Model Year Date'] = pd.to_datetime(df['Model Year'].astype(str) + '-12-31')\n",
        "print(\"\\n'Model Year Date' column recreated.\")"
      ]
    },
    {
      "cell_type": "code",
      "execution_count": 4,
      "metadata": {
        "colab": {
          "base_uri": "https://localhost:8080/"
        },
        "id": "3b_0gZ4WjC5k",
        "outputId": "2c02ffa7-7751-4048-d0fd-06801a27b4c7"
      },
      "outputs": [
        {
          "name": "stdout",
          "output_type": "stream",
          "text": [
            "\n",
            "--- Prepared WA Cumulative EV Population Time Series ---\n",
            "Model Year Date\n",
            "1997-12-31     1\n",
            "1998-12-31     2\n",
            "1999-12-31     7\n",
            "2000-12-31    14\n",
            "2002-12-31    16\n",
            "Name: Cumulative EVs, dtype: int64\n",
            "Model Year Date\n",
            "2020-12-31     66111\n",
            "2021-12-31     85174\n",
            "2022-12-31    112882\n",
            "2023-12-31    170401\n",
            "2024-12-31    177473\n",
            "Name: Cumulative EVs, dtype: int64\n"
          ]
        }
      ],
      "source": [
        "# Aggregate the cumulative number of unique EVs per Model Year Date\n",
        "# Why: To create a single series that represents the total EV population over time.\n",
        "#      Each 'DOL Vehicle ID' is a unique registration, and we sum them cumulatively by year.\n",
        "# How:\n",
        "# 1. df.groupby('Model Year Date'): Groups all the individual car records by their year.\n",
        "# 2. ['DOL Vehicle ID'].nunique(): For each year, counts how many *unique* vehicles there are.\n",
        "# 3. .sort_index(): Ensures the years are in the correct chronological order.\n",
        "# 4. .cumsum():  adds up the unique counts from previous years to get the\n",
        "#    'cumulative' total up to that year. (e.g., 2010 EVs + 2011 EVs = Cumulative EVs for 2011)\n",
        "# 5. .name = 'Cumulative EVs': Just gives our new series a readable name.\n",
        "ev_population_ts_wa = df.groupby('Model Year Date')['DOL Vehicle ID'].nunique().sort_index().cumsum()\n",
        "ev_population_ts_wa.name = 'Cumulative EVs'\n",
        "\n",
        "\n",
        "print(\"\\n--- Prepared WA Cumulative EV Population Time Series ---\")\n",
        "print(ev_population_ts_wa.head())\n",
        "print(ev_population_ts_wa.tail())"
      ]
    },
    {
      "cell_type": "code",
      "execution_count": 5,
      "metadata": {
        "colab": {
          "base_uri": "https://localhost:8080/"
        },
        "id": "fNonhB9gjQSg",
        "outputId": "72a70002-a892-4b71-b8a7-86a0613bf91b"
      },
      "outputs": [
        {
          "name": "stdout",
          "output_type": "stream",
          "text": [
            "\n",
            "Fitted exponential growth parameters: a=65.3151, b=0.3012\n"
          ]
        }
      ],
      "source": [
        "# --- 3. Forecast using Exponential Growth Curve Fitting ---\n",
        "\n",
        "\n",
        "# First, we define the mathematical shape of an exponential curve.\n",
        "def exp_growth(x, a, b):\n",
        "    return a * np.exp(b * x)\n",
        "\n",
        "# Now, we prepare our historical data for the curve fitting tool.\n",
        "# We'll use data up to 2023 to find the best-fitting curve.\n",
        "# Why 2023? Because 2024 data might not be complete yet (dataset last updated mid-2025).\n",
        "# Using complete historical years helps the model learn a consistent trend.\n",
        "ev_registration_counts = ev_population_ts_wa.copy() # Make a copy to work with\n",
        "filtered_years = ev_registration_counts[ev_registration_counts.index.year <= 2023]\n",
        "\n",
        "# 'x_data' will be our time variable for fitting. It needs to be simple numbers.\n",
        "# How: We calculate years relative to the first year (e.g., 1997 is year 0, 1998 is year 1, etc.).\n",
        "x_data = (filtered_years.index.year - filtered_years.index.min().year).values\n",
        "\n",
        "# 'y_data' will be our actual cumulative EV numbers for those years.\n",
        "y_data = filtered_years.values\n",
        "\n",
        "# Now, we use 'curve_fit' to find the best 'a' and 'b' for our 'exp_growth' rule.\n",
        "# How: 'curve_fit' is a function from the 'scipy.optimize' library.\n",
        "#      It takes our exponential function, the 'x' values (years), and the 'y' values (EV counts).\n",
        "#      It then calculates the 'a' and 'b' parameters that make our 'exp_growth' curve\n",
        "#      match our 'y_data' (actual EV counts) as closely as possible.\n",
        "params, covariance = curve_fit(exp_growth, x_data, y_data)\n",
        "\n",
        "# 'params' now holds our optimized 'a' and 'b' values.\n",
        "# params[0] is our 'a' (initial scaling factor)\n",
        "# params[1] is our 'b' (growth rate constant)\n",
        "print(f\"\\nFitted exponential growth parameters: a={params[0]:.4f}, b={params[1]:.4f}\")"
      ]
    },
    {
      "cell_type": "code",
      "execution_count": 6,
      "metadata": {
        "colab": {
          "base_uri": "https://localhost:8080/"
        },
        "id": "3vvgVzV3jf92",
        "outputId": "f2449d87-43ba-4d86-9aa8-a14d6a0c0a5d"
      },
      "outputs": [
        {
          "name": "stdout",
          "output_type": "stream",
          "text": [
            "\n",
            "--- Forecasted EV Market Size (Cumulative) ---\n",
            "2025-12-31    3.000911e+05\n",
            "2026-12-31    4.055528e+05\n",
            "2027-12-31    5.480771e+05\n",
            "2028-12-31    7.406891e+05\n",
            "2029-12-31    1.000991e+06\n",
            "2030-12-31    1.352772e+06\n",
            "2031-12-31    1.828179e+06\n",
            "2032-12-31    2.470660e+06\n",
            "2033-12-31    3.338929e+06\n",
            "2034-12-31    4.512337e+06\n",
            "2035-12-31    6.098117e+06\n",
            "dtype: float64\n"
          ]
        }
      ],
      "source": [
        "# Now, we use the fitted function (with our best 'a' and 'b') to forecast for future years.\n",
        "# Why: This is where we extend our learned pattern into the unknown future.\n",
        "# How: We provide the future years, convert them to our 'x_data' scale, and plug them into 'exp_growth'.\n",
        "\n",
        "# 1. Decide which future years we want to forecast for.\n",
        "#    'forecast_start_year' is the year *after* our last historical data point (2024).\n",
        "#    'forecast_end_year' is how far into the future we want to predict (e.g., 2035).\n",
        "forecast_start_year = ev_registration_counts.index.max().year + 1 # This will be 2025\n",
        "forecast_end_year = 2035 # You can change this to 2030 or 2040 if you prefer.\n",
        "\n",
        "# 2. Create a list of these future years as simple numbers.\n",
        "forecast_years_numerical = np.arange(forecast_start_year, forecast_end_year + 1)\n",
        "\n",
        "# 3. Convert these future years into the same 'x_data' scale (years since our base year)\n",
        "#    Why: Our 'exp_growth' function was trained on x_data that started from 0 (1997=0, 1998=1, etc.).\n",
        "#    We need to keep that same scale for forecasting to ensure the 'x' values match the 'b' parameter's meaning.\n",
        "base_year = filtered_years.index.min().year # This is 1997\n",
        "forecast_x_data = forecast_years_numerical - base_year\n",
        "\n",
        "# 4. Use our fitted 'exp_growth' function (with its 'a' and 'b' parameters)\n",
        "#    and plug in these 'future x_data' values to get the predicted EV counts.\n",
        "#    The `*params` syntax \"unpacks\" the 'a' and 'b' values from our 'params' array.\n",
        "forecasted_values = exp_growth(forecast_x_data, *params)\n",
        "\n",
        "# 5. Store these forecasted values in a nice Pandas Series with proper year dates.\n",
        "#    Why: To make it easy to see which forecast belongs to which year, and for plotting.\n",
        "forecast_series = pd.Series(\n",
        "    forecasted_values,\n",
        "    index=pd.to_datetime(forecast_years_numerical.astype(str) + '-12-31')\n",
        ")\n",
        "\n",
        "print(\"\\n--- Forecasted EV Market Size (Cumulative) ---\")\n",
        "print(forecast_series)"
      ]
    },
    {
      "cell_type": "code",
      "execution_count": 7,
      "metadata": {
        "colab": {
          "base_uri": "https://localhost:8080/"
        },
        "id": "8bhnf_1jk-aW",
        "outputId": "c0a4d0af-4d65-4bff-e47d-dead17a96689"
      },
      "outputs": [
        {
          "name": "stdout",
          "output_type": "stream",
          "text": [
            "\n",
            "Estimated Compound Annual Growth Rate (CAGR) from model: 35.14%\n"
          ]
        }
      ],
      "source": [
        "# Estimate Compound Annual Growth Rate (CAGR) from the Model\n",
        "\n",
        "# Get the 'b' parameter from your fitted model\n",
        "# Why: The 'b' parameter in np.exp(b * x) represents the continuous growth rate.\n",
        "# How: It's the second value in the 'params' array (index 1).\n",
        "b_parameter = params[1]\n",
        "\n",
        "# Calculate the Estimated Compound Annual Growth Rate (CAGR)\n",
        "# Why: To convert the continuous growth rate 'b' into an intuitive annual percentage growth.\n",
        "# How: The formula for converting a continuous growth rate 'b' to a discrete annual rate is (e^b - 1).\n",
        "cagr_from_model = np.exp(b_parameter) - 1\n",
        "\n",
        "print(f\"\\nEstimated Compound Annual Growth Rate (CAGR) from model: {cagr_from_model:.2%}\")"
      ]
    },
    {
      "cell_type": "code",
      "execution_count": 8,
      "metadata": {
        "colab": {
          "base_uri": "https://localhost:8080/"
        },
        "id": "Kbn-FfUYlekH",
        "outputId": "d959f81d-17e8-4bf9-80c0-ef322ec5c6aa"
      },
      "outputs": [
        {
          "name": "stdout",
          "output_type": "stream",
          "text": [
            "Historical CAGR (2018-2023): 31.43%\n"
          ]
        }
      ],
      "source": [
        "# Historical Compound Annual Growth Rate (CAGR) (e.g., 2018-2023)\n",
        "\n",
        "# Define the historical period for which we want to calculate CAGR\n",
        "# Why: To get a snapshot of growth over a recent, relevant past period.\n",
        "# How: Select the cumulative EV counts for the start and end years of your chosen period.\n",
        "start_year_historical_cagr = 2018\n",
        "end_year_historical_cagr = 2023\n",
        "\n",
        "# Get the cumulative EV count for the start and end of the period\n",
        "# Why: These are the 'Beginning Value' and 'Ending Value' for our CAGR formula.\n",
        "# How: Access the values from the 'ev_population_ts_wa' Series using their year-end dates.\n",
        "# .iloc[0] is used because filtering by year gives a Series, and we just need the single value.\n",
        "start_val_cagr = ev_population_ts_wa[ev_population_ts_wa.index.year == start_year_historical_cagr].iloc[0]\n",
        "end_val_cagr = ev_population_ts_wa[ev_population_ts_wa.index.year == end_year_historical_cagr].iloc[0]\n",
        "\n",
        "# Calculate the number of years in the period\n",
        "# Why: This is the 'Number of Years' exponent in our CAGR formula.\n",
        "num_years_cagr = end_year_historical_cagr - start_year_historical_cagr\n",
        "\n",
        "# Calculate the Historical CAGR using the formula\n",
        "# How: (Ending Value / Beginning Value)^(1 / Number of Years) - 1\n",
        "historical_cagr = ((end_val_cagr / start_val_cagr)**(1 / num_years_cagr)) - 1\n",
        "\n",
        "print(f\"Historical CAGR ({start_year_historical_cagr}-{end_year_historical_cagr}): {historical_cagr:.2%}\")\n"
      ]
    },
    {
      "cell_type": "code",
      "execution_count": 9,
      "metadata": {
        "colab": {
          "base_uri": "https://localhost:8080/",
          "height": 538
        },
        "id": "iMM4yPKimqNM",
        "outputId": "fd03579f-3bfc-4ea1-a1f1-09ac6b8bf445"
      },
      "outputs": [
        {
          "data": {
            "image/png": "[encoded data removed]",
            "text/plain": [
              "<Figure size 1400x800 with 1 Axes>"
            ]
          },
          "metadata": {},
          "output_type": "display_data"
        }
      ],
      "source": [
        "# Plot the Estimated Market Size Data (Actual + Forecast) ---\n",
        "# Why: Visualizing the forecast is crucial for interpretation and presenting insights.\n",
        "plt.figure(figsize=(14, 8))\n",
        "\n",
        "# Plot Actual Registrations (all historical data)\n",
        "plt.plot(ev_registration_counts.index, ev_registration_counts.values, 'bo-', label='Actual Registrations (1997-2024)')\n",
        "\n",
        "# Plot Forecasted Registrations\n",
        "plt.plot(forecast_series.index, forecast_series.values, 'ro--', label=f'Forecasted Registrations ({forecast_start_year}-{forecast_end_year})')\n",
        "\n",
        "plt.title('Washington State EV Market Size: Actual vs. Forecasted (Exponential Growth Model)')\n",
        "plt.xlabel('Year')\n",
        "plt.ylabel('Cumulative Number of EV Registrations')\n",
        "plt.legend()\n",
        "plt.grid(True)\n",
        "plt.xticks(rotation=45)\n",
        "plt.tight_layout()\n",
        "# plt.savefig('wa_ev_market_forecast_exponential_growth.png')\n",
        "plt.show()"
      ]
    },
    {
      "cell_type": "markdown",
      "metadata": {
        "id": "ONjUFKAVnkVG"
      },
      "source": [
        "# Analysis of Your Forecasting Results:\n",
        "\n",
        "**Forecasted EV Market Size (Cumulative):**\n",
        "\n",
        "The forecast from 2025 to 2035 shows a truly impressive projected growth:\n",
        "\n",
        "2025: ~300,911 EVs\n",
        "\n",
        "2030: ~1,352,772 EVs (Over 1.3 million!)\n",
        "\n",
        "2035: ~6,098,117 EVs (Over 6 million!)\n",
        "\n",
        "These numbers clearly illustrate that if the historical exponential growth trend continues, Washington State is poised for massive EV adoption in the coming decade, potentially exceeding 6 million EVs by 2035.\n",
        "\n",
        "---------------------------------------------------------\n",
        "\n",
        "**Estimated Compound Annual Growth Rate (CAGR) from model: 35.14%**\n",
        "\n",
        "- Interpretation: This is the average annual growth rate implied by the fitted exponential model. It suggests that, on average, the cumulative EV population is expected to grow by about 35.14% year-over-year.\n",
        "\n",
        "**Comparison with Historical CAGR (2018-2023): 31.43%**\n",
        "\n",
        "- The model's projected CAGR (35.14%) is slightly higher than the historical CAGR from 2018-2023 (31.43%). This suggests that the model, by fitting the overall exponential curve, is capturing the accelerating nature of the growth, and projecting a continuation of that momentum.\n",
        "\n",
        "----------------------------------------------------------\n",
        "\n",
        "**\"Washington State EV Market Size: Actual vs. Forecasted\" Plot:**\n",
        "- The plot dramatically visualizes the projected exponential increase into the future. The steepness of the red dashed line communicates the rapid growth potential.\n",
        "- A projection to over 6 million EVs by 2035 has massive implications for infrastructure planning (charging stations!), energy grid demands, policy incentives, and automotive sales strategies.\n",
        "\n"
      ]
    },
    {
      "cell_type": "code",
      "execution_count": null,
      "metadata": {
        "colab": {
          "base_uri": "https://localhost:8080/",
          "height": 34
        },
        "id": "9hsbterVvE8G",
        "outputId": "aa31001f-2332-4512-8e79-3caaf02294b7"
      },
      "outputs": [
        {
          "name": "stdout",
          "output_type": "stream",
          "text": [
            "Combined actuals and forecast saved to combined_ev_forecast.csv\n"
          ]
        },
        {
          "data": {
            "application/javascript": "\n    async function download(id, filename, size) {\n      if (!google.colab.kernel.accessAllowed) {\n        return;\n      }\n      const div = document.createElement('div');\n      const label = document.createElement('label');\n      label.textContent = `Downloading \"${filename}\": `;\n      div.appendChild(label);\n      const progress = document.createElement('progress');\n      progress.max = size;\n      div.appendChild(progress);\n      document.body.appendChild(div);\n\n      const buffers = [];\n      let downloaded = 0;\n\n      const channel = await google.colab.kernel.comms.open(id);\n      // Send a message to notify the kernel that we're ready.\n      channel.send({})\n\n      for await (const message of channel.messages) {\n        // Send a message to notify the kernel that we're ready.\n        channel.send({})\n        if (message.buffers) {\n          for (const buffer of message.buffers) {\n            buffers.push(buffer);\n            downloaded += buffer.byteLength;\n            progress.value = downloaded;\n          }\n        }\n      }\n      const blob = new Blob(buffers, {type: 'application/binary'});\n      const a = document.createElement('a');\n      a.href = window.URL.createObjectURL(blob);\n      a.download = filename;\n      div.appendChild(a);\n      a.click();\n      div.remove();\n    }\n  ",
            "text/plain": [
              "<IPython.core.display.Javascript object>"
            ]
          },
          "metadata": {},
          "output_type": "display_data"
        },
        {
          "data": {
            "application/javascript": "download(\"download_38fa91ff-fd08-4235-8014-6049fa82fb01\", \"combined_ev_forecast.csv\", 743)",
            "text/plain": [
              "<IPython.core.display.Javascript object>"
            ]
          },
          "metadata": {},
          "output_type": "display_data"
        }
      ],
      "source": [
        "# Example: Exporting the cumulative forecast data if you want it separate for dashboard\n",
        "# Combine actuals and forecast into one DataFrame for easy dashboard import\n",
        "combined_forecast_df = pd.concat([ev_population_ts_wa, forecast_series])\n",
        "combined_forecast_df = combined_forecast_df.reset_index()\n",
        "combined_forecast_df.columns = ['Model Year Date', 'Cumulative EVs']\n",
        "combined_forecast_df.to_csv('combined_ev_forecast.csv', index=False)\n",
        "print(\"Combined actuals and forecast saved to combined_ev_forecast.csv\")\n",
        "\n"
      ]
    },
    {
      "cell_type": "code",
      "execution_count": 15,
      "metadata": {},
      "outputs": [
        {
          "name": "stdout",
          "output_type": "stream",
          "text": [
            "\n",
            "--- Combined Forecast DataFrame with Data Type Column ---\n",
            "  Model Year Date  Cumulative EVs Data Type\n",
            "0      1997-12-31             1.0    Actual\n",
            "1      1998-12-31             2.0    Actual\n",
            "2      1999-12-31             7.0    Actual\n",
            "3      2000-12-31            14.0    Actual\n",
            "4      2002-12-31            16.0    Actual\n",
            "   Model Year Date  Cumulative EVs Data Type\n",
            "28      2031-12-31    1.828179e+06  Forecast\n",
            "29      2032-12-31    2.470660e+06  Forecast\n",
            "30      2033-12-31    3.338929e+06  Forecast\n",
            "31      2034-12-31    4.512337e+06  Forecast\n",
            "32      2035-12-31    6.098117e+06  Forecast\n",
            "Data Type\n",
            "Actual      22\n",
            "Forecast    11\n",
            "Name: count, dtype: int64\n"
          ]
        }
      ],
      "source": [
        "\n",
        "\n",
        "# Combine actuals and forecast into one DataFrame for easy dashboard import\n",
        "# Why: To have all time series data (historical and projected) in a single table for Power BI.\n",
        "# How: Use pd.concat to stack the actuals and forecast series.\n",
        "combined_forecast_df = pd.concat([ev_population_ts_wa, forecast_series])\n",
        "combined_forecast_df = combined_forecast_df.reset_index()\n",
        "combined_forecast_df.columns = ['Model Year Date', 'Cumulative EVs']\n",
        "\n",
        "# NEW: Add the 'Data Type' column in Python\n",
        "# Why: To easily distinguish 'Actual' historical data from 'Forecast' data in Power BI.\n",
        "# How: Check if the year is <= 2024 (your last full actual year); if so, it's 'Actual', otherwise 'Forecast'.\n",
        "combined_forecast_df['Data Type'] = np.where(\n",
        "    combined_forecast_df['Model Year Date'].dt.year <= 2024,\n",
        "    \"Actual\",\n",
        "    \"Forecast\"\n",
        ")\n",
        "\n",
        "print(\"\\n--- Combined Forecast DataFrame with Data Type Column ---\")\n",
        "print(combined_forecast_df.head())\n",
        "print(combined_forecast_df.tail())\n",
        "print(combined_forecast_df['Data Type'].value_counts())"
      ]
    },
    {
      "cell_type": "code",
      "execution_count": 17,
      "metadata": {},
      "outputs": [
        {
          "name": "stdout",
          "output_type": "stream",
          "text": [
            "\n",
            "Processed data saved to: combined_ev_forecast_fixed.csv\n"
          ]
        }
      ],
      "source": [
        "output_file_path = 'combined_ev_forecast_fixed.csv'\n",
        "combined_forecast_df.to_csv(output_file_path, index=False)\n",
        "print(f\"\\nProcessed data saved to: {output_file_path}\")"
      ]
    }
  ],
  "metadata": {
    "colab": {
      "provenance": []
    },
    "kernelspec": {
      "display_name": "Python 3",
      "name": "python3"
    },
    "language_info": {
      "codemirror_mode": {
        "name": "ipython",
        "version": 3
      },
      "file_extension": ".py",
      "mimetype": "text/x-python",
      "name": "python",
      "nbconvert_exporter": "python",
      "pygments_lexer": "ipython3",
      "version": "3.11.9"
    }
  },
  "nbformat": 4,
  "nbformat_minor": 0
}
